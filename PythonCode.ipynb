{
 "cells": [
  {
   "cell_type": "code",
   "execution_count": null,
   "metadata": {},
   "outputs": [],
   "source": [
    "import re"
   ]
  },
  {
   "cell_type": "code",
   "execution_count": null,
   "metadata": {},
   "outputs": [],
   "source": [
    "# Function to check if the given string S is IPv4 or not\n",
    "def checkIPv4(s):"
   ]
  },
  {
   "cell_type": "code",
   "execution_count": null,
   "metadata": {},
   "outputs": [],
   "source": [
    "# Count the occurrence of '.' in the given string\n",
    "    cnt = s.count('.')"
   ]
  },
  {
   "cell_type": "code",
   "execution_count": null,
   "metadata": {},
   "outputs": [],
   "source": [
    " # Not a valid IP address\n",
    "    if cnt != 3:\n",
    "        return False"
   ]
  },
  {
   "cell_type": "code",
   "execution_count": null,
   "metadata": {},
   "outputs": [],
   "source": [
    " # Split the string into tokens\n",
    "    tokens = s.split('.')"
   ]
  },
  {
   "cell_type": "code",
   "execution_count": null,
   "metadata": {},
   "outputs": [],
   "source": [
    " if len(tokens) != 4:\n",
    "        return False"
   ]
  },
  {
   "cell_type": "code",
   "execution_count": null,
   "metadata": {},
   "outputs": [],
   "source": [
    " # Check if all the tokenized strings lie in the range [0, 255]\n",
    "    for token in tokens:\n",
    "        # Base Case\n",
    "        if token == \"0\":\n",
    "            continue\n",
    " \n",
    "        if len(token) == 0:\n",
    "            return False"
   ]
  },
  {
   "cell_type": "code",
   "execution_count": null,
   "metadata": {},
   "outputs": [],
   "source": [
    "# Check if the tokenized string is a number\n",
    "        if not token.isdigit():\n",
    "            return False\n",
    " \n",
    "        # Range check for the number\n",
    "        if int(token) > 255 or int(token) < 0:\n",
    "            return False\n",
    " \n",
    "    return True"
   ]
  },
  {
   "cell_type": "code",
   "execution_count": null,
   "metadata": {},
   "outputs": [],
   "source": [
    "# Function to check if the string\n",
    "# represents a hexadecimal number\n",
    "def checkHex(s):\n",
    "    # Check if the string is a valid hexadecimal number\n",
    "    return bool(re.match(r'^[0-9a-fA-F]+$', s))"
   ]
  }
 ],
 "metadata": {
  "language_info": {
   "name": "python"
  },
  "orig_nbformat": 4
 },
 "nbformat": 4,
 "nbformat_minor": 2
}
